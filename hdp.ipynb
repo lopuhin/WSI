{
 "cells": [
  {
   "cell_type": "code",
   "execution_count": 1,
   "metadata": {
    "collapsed": true
   },
   "outputs": [],
   "source": [
    "import logging\n",
    "logger = logging.getLogger()\n",
    "logger.setLevel(logging.INFO)"
   ]
  },
  {
   "cell_type": "code",
   "execution_count": 2,
   "metadata": {
    "collapsed": false
   },
   "outputs": [
    {
     "name": "stdout",
     "output_type": "stream",
     "text": [
      "['перед', 'моя', 'вы', 'так', 'человек', 'чего', 'конечно', 'нет', 'более', 'том', 'нее', 'иногда', 'и', 'ли', 'потом', 'чтобы', 'вдруг', 'вот', 'под', 'всегда', 'теперь', 'тут', 'всего', 'надо', 'того', 'ну', 'не', 'он', 'тебя', 'в', 'она', 'сказать', 'свой', 'были', 'говорил', 'разве', 'свою', 'много', 'эту', 'всех', 'чем', 'этом', 'три', 'раз', 'никогда', 'такой', 'впрочем', 'они', 'почти', 'жизнь', 'да', 'можно', 'тот', 'про', 'же', 'от', 'бы', 'было', 'сказала', 'при', 'его', 'потому', 'какая', 'ведь', 'тоже', 'лучше', 'зачем', 'когда', 'был', 'ее', 'из', 'ему', 'там', 'для', 'как', 'сейчас', 'который', 'себе', 'к', 'кто', 'этого', 'этот', 'но', '|', 'я', 'тем', 'себя', 'совсем', 'их', 'это', 'будет', 'сегодня', 'может', 'была', 'ты', 'два', 'нибудь', 'с', 'даже', 'через']\n",
      "[['час', 'время', 'инцидент', 'хватить', 'некоторый', 'легенда', 'говориться', 'золото', 'находиться', 'конец', 'радуга', 'глубина', '22', 'фут', 'почва', 'становиться'], ['гнить', 'нераскрытый', 'тайна', 'коридор', 'бояться', 'находить', 'черепок', 'глиняный', 'настоящий', 'череп', 'скелет', 'смочь', 'выбираться'], ['орхидея', 'совершенно', 'очаровывать', 'становиться', 'любимый', 'цветок', 'рекомендовать', 'поддон', 'класть', 'гравий', 'немного', 'камень', 'сверху', 'ставить', 'орхидея']]\n",
      "34188\n"
     ]
    }
   ],
   "source": [
    "with open('../context-clustering/stopwords.txt') as f:\n",
    "    stopwords = {line.strip().split()[0] for line in f if line.strip()}\n",
    "print(list(stopwords)[:100])\n",
    "word = 'горшок'\n",
    "with open('../corpora/ad-nouns-contexts-100k/{}.txt'.format(word)) as f:\n",
    "    texts = [[w for w in line.strip().split() if w not in stopwords and w != word] for line in f]\n",
    "print(texts[:3])\n",
    "print(len(texts))\n",
    "#texts = texts[:5000]"
   ]
  },
  {
   "cell_type": "code",
   "execution_count": 4,
   "metadata": {
    "collapsed": false
   },
   "outputs": [],
   "source": [
    "from gensim import corpora\n",
    "dictionary = corpora.Dictionary(texts)\n",
    "corpus = [dictionary.doc2bow(text) for text in texts]"
   ]
  },
  {
   "cell_type": "code",
   "execution_count": 5,
   "metadata": {
    "collapsed": false
   },
   "outputs": [],
   "source": [
    "from gensim.models import HdpModel\n",
    "hdp = HdpModel(corpus, id2word=dictionary)"
   ]
  },
  {
   "cell_type": "code",
   "execution_count": 6,
   "metadata": {
    "collapsed": false
   },
   "outputs": [
    {
     "data": {
      "text/plain": [
       "['topic 0: 0.006*ребенок + 0.004*2 + 0.004*цветок + 0.004*растение + 0.003*год',\n",
       " 'topic 1: 0.003*ребенок + 0.003*цветок + 0.003*цветочный + 0.003*глиняный + 0.003*стоять',\n",
       " 'topic 2: 0.003*ребенок + 0.003*2 + 0.002*цветок + 0.002*год + 0.002*мочь',\n",
       " 'topic 3: 0.003*цветок + 0.002*мочь + 0.002*ребенок + 0.002*цветочный + 0.002*2',\n",
       " 'topic 4: 0.004*крестьянин + 0.002*река + 0.002*беда + 0.002*котел + 0.002*кот',\n",
       " 'topic 5: 0.002*растение + 0.002*22 + 0.002*время + 0.002*цветок + 0.002*2',\n",
       " 'topic 6: 0.002*2 + 0.002*цветок + 0.002*ребенок + 0.002*растение + 0.002*вода',\n",
       " 'topic 7: 0.002*вода + 0.002*2 + 0.002*растение + 0.002*глиняный + 0.001*мочь',\n",
       " 'topic 8: 0.002*цветок + 0.002*2 + 0.002*растение + 0.001*вода + 0.001*ребенок',\n",
       " 'topic 9: 0.002*2 + 0.002*ребенок + 0.002*растение + 0.002*цветок + 0.002*22']"
      ]
     },
     "execution_count": 6,
     "metadata": {},
     "output_type": "execute_result"
    }
   ],
   "source": [
    "hdp.print_topics(topics=10, topn=5)"
   ]
  }
 ],
 "metadata": {
  "kernelspec": {
   "display_name": "Python 3",
   "language": "python",
   "name": "python3"
  },
  "language_info": {
   "codemirror_mode": {
    "name": "ipython",
    "version": 3
   },
   "file_extension": ".py",
   "mimetype": "text/x-python",
   "name": "python",
   "nbconvert_exporter": "python",
   "pygments_lexer": "ipython3",
   "version": "3.4.1"
  }
 },
 "nbformat": 4,
 "nbformat_minor": 0
}
