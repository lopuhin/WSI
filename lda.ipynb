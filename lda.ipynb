{
 "cells": [
  {
   "cell_type": "code",
   "execution_count": 1,
   "metadata": {
    "collapsed": false
   },
   "outputs": [],
   "source": [
    "import logging\n",
    "logger = logging.getLogger()\n",
    "logger.setLevel(logging.INFO)"
   ]
  },
  {
   "cell_type": "code",
   "execution_count": 14,
   "metadata": {
    "collapsed": false
   },
   "outputs": [
    {
     "name": "stdout",
     "output_type": "stream",
     "text": [
      "['золото', 'почва']\n",
      "['черепок', 'глиняный']\n",
      "['орхидея', 'цветок', 'поддон', 'класть', 'гравий', 'сверху', 'ставить', 'орхидея']\n",
      "32223\n"
     ]
    }
   ],
   "source": [
    "import utils\n",
    "word = 'горшок'\n",
    "weights = utils.load_weights('../corpora/ad-nouns/cdict/', word)\n",
    "texts = utils.load_contexts('../corpora/ad-nouns-contexts-100k', word)\n",
    "texts = [[w for w in ctx if weights.get(w, 0) > 1] for ctx in texts]\n",
    "texts = [ctx for ctx in texts if ctx]\n",
    "for text in texts[:3]:\n",
    "    print(text)\n",
    "print(len(texts))\n",
    "#texts = texts[:1000]"
   ]
  },
  {
   "cell_type": "code",
   "execution_count": 15,
   "metadata": {
    "collapsed": false
   },
   "outputs": [
    {
     "name": "stdout",
     "output_type": "stream",
     "text": [
      "[(0, 1), (1, 1)] [(2, 1), (3, 1)]\n"
     ]
    }
   ],
   "source": [
    "from gensim import corpora\n",
    "dictionary = corpora.Dictionary(texts)\n",
    "corpus = [dictionary.doc2bow(text) for text in texts]\n",
    "print(corpus[0], corpus[1])"
   ]
  },
  {
   "cell_type": "code",
   "execution_count": 16,
   "metadata": {
    "collapsed": false
   },
   "outputs": [
    {
     "name": "stdout",
     "output_type": "stream",
     "text": [
      "32223\n"
     ]
    }
   ],
   "source": [
    "#from gensim.models.ldamulticore import LdaMulticore as LdaModel\n",
    "from gensim.models import LdaModel\n",
    "print(len(corpus))\n",
    "lda = LdaModel(corpus, id2word=dictionary, num_topics=6, passes=3, alpha='auto')"
   ]
  },
  {
   "cell_type": "code",
   "execution_count": 18,
   "metadata": {
    "collapsed": false
   },
   "outputs": [
    {
     "data": {
      "text/plain": [
       "[(0,\n",
       "  '0.046*глиняный + 0.046*стоять + 0.036*окно + 0.027*цветок + 0.022*цветочный'),\n",
       " (1,\n",
       "  '0.076*растение + 0.053*цветок + 0.018*корень + 0.015*высаживать + 0.014*расти'),\n",
       " (2, '0.068*вода + 0.025*золотой + 0.021*поставлять + 0.017*см + 0.016*лист'),\n",
       " (3,\n",
       "  '0.039*обжигать + 0.025*мед + 0.025*глина + 0.023*кувшин + 0.017*глиняный'),\n",
       " (4, '0.082*ночной + 0.049*цветочный + 0.029*стол + 0.028*каша + 0.021*пол'),\n",
       " (5,\n",
       "  '0.107*ребенок + 0.066*сидеть + 0.045*ходить + 0.037*садиться + 0.034*детский')]"
      ]
     },
     "execution_count": 18,
     "metadata": {},
     "output_type": "execute_result"
    }
   ],
   "source": [
    "lda.print_topics(num_words=5)"
   ]
  },
  {
   "cell_type": "code",
   "execution_count": 19,
   "metadata": {
    "collapsed": false
   },
   "outputs": [
    {
     "name": "stdout",
     "output_type": "stream",
     "text": [
      "{'2': 'Расширяющийся кверху сосуд с отверстием в дне (цветочный горшок)', '1': 'Округлый глиняный сосуд для приготовления пищи (печной горшок)', '3': 'Ночной горшок'}\n",
      "(('телевизор, - ковер, , - музыкальный центр, - стол, - аквариум, - 3 шкафа, - цветы в', ' горшках', ', - мелкие аксессуары.'), '2')\n"
     ]
    }
   ],
   "source": [
    "import rl_wsd_labeled\n",
    "senses, contexts = rl_wsd_labeled.get_contexts(rl_wsd_labeled.contexts_filename('nouns', 'RuTenTen', 'горшок'))\n",
    "print(senses)\n",
    "print(contexts[0])"
   ]
  },
  {
   "cell_type": "code",
   "execution_count": 20,
   "metadata": {
    "collapsed": false
   },
   "outputs": [
    {
     "name": "stdout",
     "output_type": "stream",
     "text": [
      "('телевизор, - ковер, , - музыкальный центр, - стол, - аквариум, - 3 шкафа, - цветы в', ' горшках', ', - мелкие аксессуары.')\n",
      "['телевизор', 'ковер', 'музыкальный', 'центр', 'стол', 'аквариум', '3', 'шкаф', 'цветок', 'мелкий', 'аксессуар']\n"
     ]
    }
   ],
   "source": [
    "print(contexts[0][0])\n",
    "print(utils.normalize(contexts[0][0]))"
   ]
  },
  {
   "cell_type": "code",
   "execution_count": 22,
   "metadata": {
    "collapsed": false
   },
   "outputs": [
    {
     "name": "stdout",
     "output_type": "stream",
     "text": [
      "[0 1 1 1 2 4 1 2 0 4]\n",
      "[2 2 2 2 2 3 2 1 2 2]\n"
     ]
    }
   ],
   "source": [
    "import numpy as np\n",
    "documents = [dictionary.doc2bow(utils.normalize(ctx)) for ctx, _ in contexts]\n",
    "gamma, _ = lda.inference(documents)\n",
    "pred_topics = gamma.argmax(axis=1)\n",
    "true_labels = np.array([int(ans) for _, ans in contexts])\n",
    "print(pred_topics[:10])\n",
    "print(true_labels[:10])"
   ]
  },
  {
   "cell_type": "code",
   "execution_count": 23,
   "metadata": {
    "collapsed": false
   },
   "outputs": [
    {
     "name": "stdout",
     "output_type": "stream",
     "text": [
      "ARI: 0.27628538129932667\n",
      "V score: 0.292217376541\n"
     ]
    }
   ],
   "source": [
    "from sklearn.metrics import v_measure_score, adjusted_rand_score\n",
    "print('ARI:', adjusted_rand_score(true_labels, pred_topics))\n",
    "print('V score:', v_measure_score(true_labels, pred_topics))"
   ]
  }
 ],
 "metadata": {
  "kernelspec": {
   "display_name": "Python 3",
   "language": "python",
   "name": "python3"
  },
  "language_info": {
   "codemirror_mode": {
    "name": "ipython",
    "version": 3
   },
   "file_extension": ".py",
   "mimetype": "text/x-python",
   "name": "python",
   "nbconvert_exporter": "python",
   "pygments_lexer": "ipython3",
   "version": "3.4.1"
  }
 },
 "nbformat": 4,
 "nbformat_minor": 0
}
