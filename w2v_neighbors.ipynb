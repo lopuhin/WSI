{
 "cells": [
  {
   "cell_type": "code",
   "execution_count": 2,
   "metadata": {
    "collapsed": false
   },
   "outputs": [],
   "source": [
    "from gensim.models import Word2Vec\n",
    "\n",
    "w2v = Word2Vec.load(\"model_lemmas/model.pkl\")"
   ]
  },
  {
   "cell_type": "code",
   "execution_count": 19,
   "metadata": {
    "collapsed": false
   },
   "outputs": [
    {
     "name": "stdout",
     "output_type": "stream",
     "text": [
      "горшочек 0.710592567921\n",
      "кастрюля 0.657353281975\n",
      "глиняный 0.655084609985\n",
      "ваза 0.64835268259\n",
      "кувшин 0.647891879082\n",
      "миска 0.642350077629\n",
      "кадка 0.640842735767\n",
      "корчага 0.613799750805\n",
      "черепок 0.60687994957\n",
      "таз 0.606725931168\n"
     ]
    }
   ],
   "source": [
    "word = u\"горшок\"\n",
    "\n",
    "similar = w2v.most_similar(positive=[word], topn=100)\n",
    "for w, wt in similar[:10]:\n",
    "    print w, wt\n",
    "\n",
    "word_vectors = [w2v[w] for w, wt in similar]"
   ]
  },
  {
   "cell_type": "code",
   "execution_count": 26,
   "metadata": {
    "collapsed": false
   },
   "outputs": [
    {
     "data": {
      "text/plain": [
       "Counter({0: 37, 1: 23, 2: 40})"
      ]
     },
     "execution_count": 26,
     "metadata": {},
     "output_type": "execute_result"
    }
   ],
   "source": [
    "from sklearn.cluster import KMeans\n",
    "\n",
    "clf = KMeans(n_clusters=3, random_state=42)\n",
    "clf_res = clf.fit_predict(word_vectors)\n",
    "\n",
    "from collections import Counter\n",
    "Counter(clf_res)"
   ]
  },
  {
   "cell_type": "code",
   "execution_count": 27,
   "metadata": {
    "collapsed": false
   },
   "outputs": [
    {
     "name": "stdout",
     "output_type": "stream",
     "text": [
      "[[-0.08377615 -0.88522571]\n",
      " [-1.3223666   0.41424483]]\n"
     ]
    }
   ],
   "source": [
    "from sklearn.decomposition import PCA\n",
    "\n",
    "pca = PCA(n_components=2)\n",
    "pca_res = pca.fit_transform(word_vectors)\n",
    "\n",
    "print pca_res[:2]"
   ]
  },
  {
   "cell_type": "code",
   "execution_count": 28,
   "metadata": {
    "collapsed": false
   },
   "outputs": [
    {
     "data": {
      "text/plain": [
       "<matplotlib.axes._subplots.AxesSubplot at 0xe8f9c10>"
      ]
     },
     "execution_count": 28,
     "metadata": {},
     "output_type": "execute_result"
    },
    {
     "data": {
      "image/png": "[encoded data removed]",
      "text/plain": [
       "<matplotlib.figure.Figure at 0x16fbbe10>"
      ]
     },
     "metadata": {},
     "output_type": "display_data"
    }
   ],
   "source": [
    "%matplotlib inline\n",
    "\n",
    "import pandas as pd\n",
    "\n",
    "df = pd.DataFrame.from_dict({\n",
    "    \"x\": pca_res[:,0],\n",
    "    \"y\": pca_res[:,1],\n",
    "    \"clf\": clf_res,\n",
    "})\n",
    "df.plot.scatter(x=\"x\", y=\"y\", c=\"clf\")"
   ]
  },
  {
   "cell_type": "code",
   "execution_count": 33,
   "metadata": {
    "collapsed": false
   },
   "outputs": [
    {
     "name": "stdout",
     "output_type": "stream",
     "text": [
      "кастрюля 0.657353281975\n",
      "миска 0.642350077629\n",
      "корчага 0.613799750805\n",
      "таз 0.606725931168\n",
      "плошка 0.605731248856\n",
      "кастрюлька 0.59911775589\n",
      "чайник 0.581162214279\n",
      "кринка 0.578737616539\n",
      "котелок 0.570973515511\n",
      "кадушка 0.570766150951\n",
      "ведро 0.569090008736\n",
      "рукомойник 0.56697589159\n",
      "половник 0.563946545124\n",
      "лохань 0.563138127327\n",
      "чугунок 0.55902659893\n",
      "самовар 0.555512785912\n",
      "жаровня 0.551785111427\n",
      "эмалированный 0.550399661064\n",
      "сковородка 0.5481377244\n",
      "ковшик 0.547262310982\n",
      "корыто 0.546737611294\n",
      "котел 0.544004321098\n",
      "черпак 0.533239126205\n",
      "крынка 0.532097935677\n",
      "бадья 0.529496371746\n",
      "бадейка 0.529367983341\n",
      "тазик 0.521232008934\n"
     ]
    }
   ],
   "source": [
    "for (w, wt), class_ in zip(similar, clf_res)[:50]:\n",
    "    if class_ == 2:\n",
    "        print w, wt"
   ]
  }
 ],
 "metadata": {
  "kernelspec": {
   "display_name": "Python 2",
   "language": "python",
   "name": "python2"
  },
  "language_info": {
   "codemirror_mode": {
    "name": "ipython",
    "version": 2
   },
   "file_extension": ".py",
   "mimetype": "text/x-python",
   "name": "python",
   "nbconvert_exporter": "python",
   "pygments_lexer": "ipython2",
   "version": "2.7.3"
  }
 },
 "nbformat": 4,
 "nbformat_minor": 0
}
