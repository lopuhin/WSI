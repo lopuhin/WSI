{
 "cells": [
  {
   "cell_type": "code",
   "execution_count": 1,
   "metadata": {
    "collapsed": false
   },
   "outputs": [],
   "source": [
    "import logging\n",
    "logger = logging.getLogger()\n",
    "logger.setLevel(logging.INFO)"
   ]
  },
  {
   "cell_type": "code",
   "execution_count": 65,
   "metadata": {
    "collapsed": false
   },
   "outputs": [
    {
     "name": "stdout",
     "output_type": "stream",
     "text": [
      "['помазок', 'картофелина', 'тряпочка', 'наматывать']\n",
      "['нож']\n",
      "['звон', 'нож']\n",
      "20951\n"
     ]
    }
   ],
   "source": [
    "import utils\n",
    "word = 'вилка'\n",
    "weights = utils.load_weights('../corpora/ad-nouns/cdict/', word)\n",
    "texts = utils.load_contexts('../corpora/ad-nouns-contexts-100k', word)\n",
    "texts = [[w for w in ctx if weights.get(w, 0) > 1] for ctx in texts]\n",
    "texts = [ctx for ctx in texts if ctx]\n",
    "for text in texts[:3]:\n",
    "    print(text)\n",
    "print(len(texts))\n",
    "#texts = texts[:1000]"
   ]
  },
  {
   "cell_type": "code",
   "execution_count": 66,
   "metadata": {
    "collapsed": false
   },
   "outputs": [
    {
     "name": "stdout",
     "output_type": "stream",
     "text": [
      "[(0, 1), (1, 1), (2, 1), (3, 1)] [(4, 1)]\n"
     ]
    }
   ],
   "source": [
    "from gensim import corpora\n",
    "dictionary = corpora.Dictionary(texts)\n",
    "corpus = [dictionary.doc2bow(text) for text in texts]\n",
    "print(corpus[0], corpus[1])"
   ]
  },
  {
   "cell_type": "code",
   "execution_count": 78,
   "metadata": {
    "collapsed": false
   },
   "outputs": [
    {
     "name": "stdout",
     "output_type": "stream",
     "text": [
      "20951\n"
     ]
    }
   ],
   "source": [
    "#from gensim.models.ldamulticore import LdaMulticore as LdaModel\n",
    "from gensim.models import LdaModel\n",
    "from gensim.models import HdpModel\n",
    "print(len(corpus))\n",
    "#lda = HdpModel(corpus, id2word=dictionary)\n",
    "lda = LdaModel(corpus, id2word=dictionary, num_topics=6, passes=3, iterations=100, alpha='auto')"
   ]
  },
  {
   "cell_type": "code",
   "execution_count": 87,
   "metadata": {
    "collapsed": false
   },
   "outputs": [
    {
     "name": "stdout",
     "output_type": "stream",
     "text": [
      "0 взять откладывать розетка палец предохранитель\n",
      "1 передний колесо масло задний яйцо\n",
      "2 розетка втыкать вынимать провод выдергивать\n",
      "3 нож ложка тарелка стол прибор\n",
      "4 рука держать выпивать огурец банка\n",
      "5 нож рука рот кусок мясо\n"
     ]
    }
   ],
   "source": [
    "lda.print_topics(num_words=5)\n",
    "for topic_id in range(lda.num_topics):\n",
    "    terms = lda.get_topic_terms(topic_id, topn=5)\n",
    "    print(topic_id, ' '.join(dictionary[wid] for wid, _ in terms))\n",
    "#lda.print_topics(topics=6, topn=5)"
   ]
  },
  {
   "cell_type": "code",
   "execution_count": 61,
   "metadata": {
    "collapsed": false
   },
   "outputs": [
    {
     "name": "stdout",
     "output_type": "stream",
     "text": [
      "{'2': 'Книга с репродукциями или фотографиями', '1': 'Тетрадь или книга с чистыми листами', '3': 'Собрание музыкальных произведений'}\n",
      "(('достаточно лишь колесиком мышки крутить вниз. И если вы захотите увеличить фотографию в', ' альбоме', ', то все следующие фотографии будут также отображаться в полноразмерном варианте'), '2')\n"
     ]
    }
   ],
   "source": [
    "import rl_wsd_labeled\n",
    "senses, contexts = rl_wsd_labeled.get_contexts(rl_wsd_labeled.contexts_filename('nouns', 'RuTenTen', word))\n",
    "print(senses)\n",
    "print(contexts[0])"
   ]
  },
  {
   "cell_type": "code",
   "execution_count": 62,
   "metadata": {
    "collapsed": false
   },
   "outputs": [
    {
     "name": "stdout",
     "output_type": "stream",
     "text": [
      "('достаточно лишь колесиком мышки крутить вниз. И если вы захотите увеличить фотографию в', ' альбоме', ', то все следующие фотографии будут также отображаться в полноразмерном варианте')\n",
      "['достаточно', 'лишь', 'колесико', 'мышка', 'крутить', 'вниз', 'захотеть', 'увеличивать', 'фотография', 'следующий', 'фотография', 'также', 'отображаться', 'полноразмерный', 'вариант']\n"
     ]
    }
   ],
   "source": [
    "print(contexts[0][0])\n",
    "print(utils.normalize(contexts[0][0]))"
   ]
  },
  {
   "cell_type": "code",
   "execution_count": 80,
   "metadata": {
    "collapsed": false
   },
   "outputs": [
    {
     "name": "stdout",
     "output_type": "stream",
     "text": [
      "[3 3 3 3 3 3 3 0 3 3]\n",
      "[2 3 2 3 3 3 2 3 2 3]\n"
     ]
    }
   ],
   "source": [
    "import numpy as np\n",
    "documents = [dictionary.doc2bow(utils.normalize(ctx)) for ctx, _ in contexts]\n",
    "gamma, _ = lda.inference(documents)\n",
    "pred_topics = gamma.argmax(axis=1)\n",
    "true_labels = np.array([int(ans) for _, ans in contexts])\n",
    "print(pred_topics[:10])\n",
    "print(true_labels[:10])"
   ]
  },
  {
   "cell_type": "code",
   "execution_count": 81,
   "metadata": {
    "collapsed": false
   },
   "outputs": [
    {
     "name": "stdout",
     "output_type": "stream",
     "text": [
      "ARI: 0.0911742420850017\n",
      "V score: 0.0321246695993\n"
     ]
    }
   ],
   "source": [
    "from sklearn.metrics import v_measure_score, adjusted_rand_score\n",
    "print('ARI:', adjusted_rand_score(true_labels, pred_topics))\n",
    "print('V score:', v_measure_score(true_labels, pred_topics))"
   ]
  }
 ],
 "metadata": {
  "kernelspec": {
   "display_name": "Python 3",
   "language": "python",
   "name": "python3"
  },
  "language_info": {
   "codemirror_mode": {
    "name": "ipython",
    "version": 3
   },
   "file_extension": ".py",
   "mimetype": "text/x-python",
   "name": "python",
   "nbconvert_exporter": "python",
   "pygments_lexer": "ipython3",
   "version": "3.4.1"
  }
 },
 "nbformat": 4,
 "nbformat_minor": 0
}
