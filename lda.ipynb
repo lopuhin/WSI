{
 "cells": [
  {
   "cell_type": "code",
   "execution_count": 1,
   "metadata": {
    "collapsed": false
   },
   "outputs": [],
   "source": [
    "import logging\n",
    "logger = logging.getLogger()\n",
    "logger.setLevel(logging.INFO)"
   ]
  },
  {
   "cell_type": "code",
   "execution_count": 37,
   "metadata": {
    "collapsed": false
   },
   "outputs": [
    {
     "name": "stdout",
     "output_type": "stream",
     "text": [
      "['золото', 'почва']\n",
      "['черепок', 'глиняный']\n",
      "['орхидея', 'цветок', 'поддон', 'класть', 'гравий', 'сверху', 'ставить', 'орхидея']\n",
      "32223\n"
     ]
    }
   ],
   "source": [
    "import utils\n",
    "word = 'горшок'\n",
    "weights = utils.load_weights('../corpora/ad-nouns/cdict/', word)\n",
    "texts = utils.load_contexts('../corpora/ad-nouns-contexts-100k', word)\n",
    "texts = [[w for w in ctx if weights.get(w, 0) > 1] for ctx in texts]\n",
    "texts = [ctx for ctx in texts if ctx]\n",
    "for text in texts[:3]:\n",
    "    print(text)\n",
    "print(len(texts))\n",
    "#texts = texts[:1000]"
   ]
  },
  {
   "cell_type": "code",
   "execution_count": 38,
   "metadata": {
    "collapsed": false
   },
   "outputs": [
    {
     "name": "stdout",
     "output_type": "stream",
     "text": [
      "[(0, 1), (1, 1)] [(2, 1), (3, 1)]\n"
     ]
    }
   ],
   "source": [
    "from gensim import corpora\n",
    "dictionary = corpora.Dictionary(texts)\n",
    "corpus = [dictionary.doc2bow(text) for text in texts]\n",
    "print(corpus[0], corpus[1])"
   ]
  },
  {
   "cell_type": "code",
   "execution_count": 56,
   "metadata": {
    "collapsed": false
   },
   "outputs": [
    {
     "name": "stdout",
     "output_type": "stream",
     "text": [
      "32223\n"
     ]
    }
   ],
   "source": [
    "#from gensim.models.ldamulticore import LdaMulticore as LdaModel\n",
    "from gensim.models import LdaModel\n",
    "from gensim.models import HdpModel\n",
    "print(len(corpus))\n",
    "#lda = HdpModel(corpus, id2word=dictionary)\n",
    "lda = LdaModel(corpus, id2word=dictionary, num_topics=6, passes=3, alpha='auto')"
   ]
  },
  {
   "cell_type": "code",
   "execution_count": 52,
   "metadata": {
    "collapsed": false
   },
   "outputs": [
    {
     "data": {
      "text/plain": [
       "[(0, '0.032*детский + 0.022*кувшин + 0.019*см + 0.019*кухня + 0.016*сад'),\n",
       " (1,\n",
       "  '0.103*цветок + 0.093*ребенок + 0.038*ходить + 0.024*золотой + 0.022*приучать'),\n",
       " (2,\n",
       "  '0.100*растение + 0.041*обжигать + 0.032*разбивать + 0.023*корень + 0.021*молоко'),\n",
       " (3,\n",
       "  '0.061*цветочный + 0.058*ночной + 0.044*стоять + 0.037*сидеть + 0.032*окно'),\n",
       " (4, '0.037*каша + 0.027*мед + 0.026*глина + 0.020*ложка + 0.017*мясо'),\n",
       " (5, '0.063*глиняный + 0.057*вода + 0.028*печь + 0.022*огонь + 0.021*ставить')]"
      ]
     },
     "execution_count": 52,
     "metadata": {},
     "output_type": "execute_result"
    }
   ],
   "source": [
    "lda.print_topics(num_words=5)\n",
    "#lda.print_topics(topics=6, topn=5)"
   ]
  },
  {
   "cell_type": "code",
   "execution_count": 53,
   "metadata": {
    "collapsed": false
   },
   "outputs": [
    {
     "name": "stdout",
     "output_type": "stream",
     "text": [
      "{'2': 'Расширяющийся кверху сосуд с отверстием в дне (цветочный горшок)', '1': 'Округлый глиняный сосуд для приготовления пищи (печной горшок)', '3': 'Ночной горшок'}\n",
      "(('телевизор, - ковер, , - музыкальный центр, - стол, - аквариум, - 3 шкафа, - цветы в', ' горшках', ', - мелкие аксессуары.'), '2')\n"
     ]
    }
   ],
   "source": [
    "import rl_wsd_labeled\n",
    "senses, contexts = rl_wsd_labeled.get_contexts(rl_wsd_labeled.contexts_filename('nouns', 'RuTenTen', word))\n",
    "print(senses)\n",
    "print(contexts[0])"
   ]
  },
  {
   "cell_type": "code",
   "execution_count": 42,
   "metadata": {
    "collapsed": false
   },
   "outputs": [
    {
     "name": "stdout",
     "output_type": "stream",
     "text": [
      "('телевизор, - ковер, , - музыкальный центр, - стол, - аквариум, - 3 шкафа, - цветы в', ' горшках', ', - мелкие аксессуары.')\n",
      "['телевизор', 'ковер', 'музыкальный', 'центр', 'стол', 'аквариум', '3', 'шкаф', 'цветок', 'мелкий', 'аксессуар']\n"
     ]
    }
   ],
   "source": [
    "print(contexts[0][0])\n",
    "print(utils.normalize(contexts[0][0]))"
   ]
  },
  {
   "cell_type": "code",
   "execution_count": 54,
   "metadata": {
    "collapsed": false
   },
   "outputs": [
    {
     "name": "stdout",
     "output_type": "stream",
     "text": [
      "[3 2 3 5 1 3 1 1 0 5]\n",
      "[2 2 2 2 2 3 2 1 2 2]\n"
     ]
    }
   ],
   "source": [
    "import numpy as np\n",
    "documents = [dictionary.doc2bow(utils.normalize(ctx)) for ctx, _ in contexts]\n",
    "gamma, _ = lda.inference(documents)\n",
    "pred_topics = gamma.argmax(axis=1)\n",
    "true_labels = np.array([int(ans) for _, ans in contexts])\n",
    "print(pred_topics[:10])\n",
    "print(true_labels[:10])"
   ]
  },
  {
   "cell_type": "code",
   "execution_count": 55,
   "metadata": {
    "collapsed": false
   },
   "outputs": [
    {
     "name": "stdout",
     "output_type": "stream",
     "text": [
      "ARI: 0.051138243563215696\n",
      "V score: 0.133119541522\n"
     ]
    }
   ],
   "source": [
    "from sklearn.metrics import v_measure_score, adjusted_rand_score\n",
    "print('ARI:', adjusted_rand_score(true_labels, pred_topics))\n",
    "print('V score:', v_measure_score(true_labels, pred_topics))"
   ]
  }
 ],
 "metadata": {
  "kernelspec": {
   "display_name": "Python 3",
   "language": "python",
   "name": "python3"
  },
  "language_info": {
   "codemirror_mode": {
    "name": "ipython",
    "version": 3
   },
   "file_extension": ".py",
   "mimetype": "text/x-python",
   "name": "python",
   "nbconvert_exporter": "python",
   "pygments_lexer": "ipython3",
   "version": "3.4.1"
  }
 },
 "nbformat": 4,
 "nbformat_minor": 0
}
