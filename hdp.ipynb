{
 "cells": [
  {
   "cell_type": "code",
   "execution_count": 10,
   "metadata": {
    "collapsed": false
   },
   "outputs": [
    {
     "name": "stdout",
     "output_type": "stream",
     "text": [
      "['ним', 'почти', 'в', 'вы', 'нельзя', 'лучше', 'чуть', 'по', 'чтобы', 'нас', 'сейчас', 'или', 'который', 'тут', 'мой', 'кажется', 'ему', 'что', 'этой', 'нее', 'он', 'свою', 'перед', 'если', 'него', 'кто', 'всего', 'моя', 'сказал', 'между', 'как', 'нет', 'вдруг', 'сегодня', 'три', 'эту', 'а', 'себе', 'было', 'ей', 'тот', 'раз', 'эти', 'я', 'жизнь', 'не', 'нибудь', 'том', 'о', 'такой', 'ней', 'мы', 'вам', 'про', 'здесь', 'так', 'теперь', 'тоже', 'всю', 'иногда', 'на', 'конечно', 'них', 'где', 'меня', 'даже', 'ведь', 'его', 'этом', 'вот', 'чтоб', 'хорошо', 'же', 'с', 'и', 'да', 'еще', 'ну', 'сказала', 'более', 'то', 'к', 'наконец', 'много', 'через', 'сам', 'быть', 'может', 'надо', 'ничего', 'ты', 'никогда', 'все', 'была', 'можно', 'был', 'уж', 'под', 'свой', 'другой']\n",
      "[['час', 'время', 'инцидент', 'хватить', 'некоторый', 'легенда', 'говориться', 'золото', 'находиться', 'конец', 'радуга', 'глубина', '22', 'фут', 'почва', 'становиться'], ['гнить', 'нераскрытый', 'тайна', 'коридор', 'бояться', 'находить', 'черепок', 'глиняный', 'настоящий', 'череп', 'скелет', 'смочь', 'выбираться'], ['орхидея', 'совершенно', 'очаровывать', 'становиться', 'любимый', 'цветок', 'рекомендовать', 'поддон', 'класть', 'гравий', 'немного', 'камень', 'сверху', 'ставить', 'орхидея']]\n",
      "34188\n"
     ]
    }
   ],
   "source": [
    "\n",
    "with open('../context-clustering/stopwords.txt') as f:\n",
    "    stopwords = {line.strip().split()[0] for line in f if line.strip()}\n",
    "print(list(stopwords)[:100])\n",
    "word = 'горшок'\n",
    "with open('../corpora/ad-nouns-contexts-100k/{}.txt'.format(word)) as f:\n",
    "    texts = [[w for w in line.strip().split() if w not in stopwords and w != word] for line in f]\n",
    "print(texts[:3])\n",
    "print(len(texts))\n",
    "#texts = texts[:5000]"
   ]
  },
  {
   "cell_type": "code",
   "execution_count": 11,
   "metadata": {
    "collapsed": false
   },
   "outputs": [],
   "source": [
    "from gensim import corpora\n",
    "dictionary = corpora.Dictionary(texts)\n",
    "corpus = [dictionary.doc2bow(text) for text in texts]"
   ]
  },
  {
   "cell_type": "code",
   "execution_count": 12,
   "metadata": {
    "collapsed": false
   },
   "outputs": [],
   "source": [
    "from gensim.models import HdpModel\n",
    "hdp = HdpModel(corpus, id2word=dictionary)"
   ]
  },
  {
   "cell_type": "code",
   "execution_count": 13,
   "metadata": {
    "collapsed": false
   },
   "outputs": [
    {
     "data": {
      "text/plain": [
       "['topic 0: 0.005*растение + 0.005*ребенок + 0.004*мочь + 0.004*цветок + 0.003*цветочный',\n",
       " 'topic 1: 0.004*цветок + 0.003*ребенок + 0.003*2 + 0.003*большой + 0.003*мочь',\n",
       " 'topic 2: 0.003*2 + 0.002*ребенок + 0.002*мочь + 0.002*вода + 0.002*год',\n",
       " 'topic 3: 0.002*растение + 0.002*цветок + 0.002*вода + 0.002*цветочный + 0.002*стоять',\n",
       " 'topic 4: 0.002*2 + 0.002*растение + 0.002*22 + 0.002*цветок + 0.002*вода']"
      ]
     },
     "execution_count": 13,
     "metadata": {},
     "output_type": "execute_result"
    }
   ],
   "source": [
    "hdp.print_topics(topics=5, topn=5)"
   ]
  }
 ],
 "metadata": {
  "kernelspec": {
   "display_name": "Python 3",
   "language": "python",
   "name": "python3"
  },
  "language_info": {
   "codemirror_mode": {
    "name": "ipython",
    "version": 3
   },
   "file_extension": ".py",
   "mimetype": "text/x-python",
   "name": "python",
   "nbconvert_exporter": "python",
   "pygments_lexer": "ipython3",
   "version": "3.4.1"
  }
 },
 "nbformat": 4,
 "nbformat_minor": 0
}
