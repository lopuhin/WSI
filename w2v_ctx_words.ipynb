{
 "cells": [
  {
   "cell_type": "code",
   "execution_count": 2,
   "metadata": {
    "collapsed": false
   },
   "outputs": [],
   "source": [
    "from gensim.models import Word2Vec\n",
    "model = Word2Vec.load('model.pkl')"
   ]
  },
  {
   "cell_type": "code",
   "execution_count": 3,
   "metadata": {
    "collapsed": false
   },
   "outputs": [
    {
     "name": "stdout",
     "output_type": "stream",
     "text": [
      "['час', 'время', 'инцидент', 'хватить', 'некоторый', 'легенда', 'говориться', 'золото', 'находиться', 'конец', 'радуга', 'глубина', '22', 'фут', 'почва', 'становиться']\n",
      "34188\n"
     ]
    }
   ],
   "source": [
    "import utils\n",
    "contexts = utils.load_contexts('../corpora/ad-nouns-contexts-100k', 'горшок')\n",
    "print(contexts[0])\n",
    "print(len(contexts))"
   ]
  },
  {
   "cell_type": "code",
   "execution_count": 12,
   "metadata": {
    "collapsed": false
   },
   "outputs": [
    {
     "name": "stdout",
     "output_type": "stream",
     "text": [
      "1819\n",
      "1817\n"
     ]
    }
   ],
   "source": [
    "from collections import Counter\n",
    "import numpy as np\n",
    "min_count = 50\n",
    "all_words = [\n",
    "    w for w, cnt in Counter(w for ctx in contexts for w in ctx).items()\n",
    "    if cnt >= min_count]\n",
    "print(len(all_words))\n",
    "w2v_vecs = np.array([model[w] for w in all_words if w in model])\n",
    "print(len(w2v_vecs))"
   ]
  },
  {
   "cell_type": "code",
   "execution_count": 13,
   "metadata": {
    "collapsed": false
   },
   "outputs": [
    {
     "name": "stdout",
     "output_type": "stream",
     "text": [
      "kmeans: X (85, 300)  centres (6, 300)  delta=0.001  maxiter=10  metric=cosine\n",
      "kmeans: 5 iterations  cluster sizes: [13 19 12 12 16 13]\n",
      "kmeans: X (1817, 300)  centres (6, 300)  delta=0.001  maxiter=10  metric=cosine\n",
      "kmeans: 8 iterations  cluster sizes: [241 256 361 365 161 433]\n"
     ]
    }
   ],
   "source": [
    "import kmeans\n",
    "n_senses = 6\n",
    "km = kmeans.KMeans(w2v_vecs, k=n_senses, metric='cosine')"
   ]
  },
  {
   "cell_type": "code",
   "execution_count": 14,
   "metadata": {
    "collapsed": false
   },
   "outputs": [
    {
     "name": "stdout",
     "output_type": "stream",
     "text": [
      "0 ['болезнь' 'запускать' 'исчезать' 'куча' 'зимний' 'скворец' 'бить' 'шар'\n",
      " 'отправлять' 'учитель']\n",
      "1 ['лена' 'оставлять' 'вроде' 'горшочек' 'тарелка' 'шум' 'расставлять'\n",
      " 'рождение' 'потолок' 'материал']\n",
      "2 ['стиль' 'десяток' 'смех' 'ворота' 'скамья' 'инструмент' 'наполнять'\n",
      " 'важно' 'обед' 'пиво']\n",
      "3 ['садик' 'кружиться' 'мама' 'убеждаться' 'начальник' 'рыба' 'почва'\n",
      " 'касаться' 'пакет' 'народ']\n",
      "4 ['михаил' 'хозяин' 'ложиться' 'волос' 'орудие' 'качество' 'известно'\n",
      " 'штанишки' 'темнота' 'привыкать']\n",
      "5 ['спасибо' 'слово' 'угодно' 'земляной' 'увидеть' 'старуха' 'дым' 'стенка'\n",
      " 'листовой' 'змея']\n"
     ]
    }
   ],
   "source": [
    "all_words = np.array(all_words)\n",
    "for sense in range(n_senses):\n",
    "    indices = km.Xtocentre == sense\n",
    "    distances = km.distances[indices]\n",
    "    sense_words = all_words[indices]\n",
    "    min_indices = np.argsort(distances)[:10]\n",
    "    distances[min_indices]\n",
    "    print(sense, sense_words[min_indices])"
   ]
  }
 ],
 "metadata": {
  "kernelspec": {
   "display_name": "Python 3",
   "language": "python",
   "name": "python3"
  },
  "language_info": {
   "codemirror_mode": {
    "name": "ipython",
    "version": 3
   },
   "file_extension": ".py",
   "mimetype": "text/x-python",
   "name": "python",
   "nbconvert_exporter": "python",
   "pygments_lexer": "ipython3",
   "version": "3.4.1"
  }
 },
 "nbformat": 4,
 "nbformat_minor": 0
}
