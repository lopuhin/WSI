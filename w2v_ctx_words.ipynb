{
 "cells": [
  {
   "cell_type": "code",
   "execution_count": 5,
   "metadata": {
    "collapsed": false
   },
   "outputs": [],
   "source": [
    "from gensim.models import Word2Vec\n",
    "model = Word2Vec.load('model.pkl')"
   ]
  },
  {
   "cell_type": "code",
   "execution_count": 2,
   "metadata": {
    "collapsed": false
   },
   "outputs": [
    {
     "name": "stdout",
     "output_type": "stream",
     "text": [
      "['час', 'время', 'инцидент', 'хватить', 'некоторый', 'легенда', 'говориться', 'золото', 'находиться', 'конец', 'радуга', 'глубина', '22', 'фут', 'почва', 'становиться']\n",
      "34188\n"
     ]
    }
   ],
   "source": [
    "import utils\n",
    "word = 'горшок'\n",
    "weights = utils.load_weights('../corpora/ad-nouns/cdict/', word)\n",
    "contexts = utils.load_contexts('../corpora/ad-nouns-contexts-100k', word)\n",
    "print(contexts[0])\n",
    "print(len(contexts))"
   ]
  },
  {
   "cell_type": "code",
   "execution_count": 12,
   "metadata": {
    "collapsed": false
   },
   "outputs": [
    {
     "name": "stdout",
     "output_type": "stream",
     "text": [
      "679\n",
      "678\n"
     ]
    }
   ],
   "source": [
    "from collections import Counter\n",
    "import numpy as np\n",
    "min_count = 20\n",
    "min_weight = 1.5\n",
    "all_words = [\n",
    "    w for w, cnt in Counter(w for ctx in contexts for w in ctx).items()\n",
    "    if cnt >= min_count and weights.get(w, 0) > 1.5]\n",
    "print(len(all_words))\n",
    "w2v_vecs = np.array([model[w] for w in all_words if w in model])\n",
    "print(len(w2v_vecs))"
   ]
  },
  {
   "cell_type": "code",
   "execution_count": 13,
   "metadata": {
    "collapsed": false
   },
   "outputs": [
    {
     "name": "stdout",
     "output_type": "stream",
     "text": [
      "kmeans: X (60, 300)  centres (6, 300)  delta=0.001  maxiter=10  metric=cosine\n",
      "kmeans: 5 iterations  cluster sizes: [ 3 18 16  7  6 10]\n",
      "kmeans: X (678, 300)  centres (6, 300)  delta=0.001  maxiter=10  metric=cosine\n",
      "kmeans: 7 iterations  cluster sizes: [ 36 224  85 118  53 162]\n"
     ]
    }
   ],
   "source": [
    "import kmeans\n",
    "n_senses = 6\n",
    "km = kmeans.KMeans(w2v_vecs, k=n_senses, metric='cosine')"
   ]
  },
  {
   "cell_type": "code",
   "execution_count": 14,
   "metadata": {
    "collapsed": false
   },
   "outputs": [
    {
     "name": "stdout",
     "output_type": "stream",
     "text": [
      "0 ['годовалый' 'шейка' 'карапуз' 'какашка' 'кишка' 'отросток' 'клизма'\n",
      " 'малыш' 'мочевой' 'испражнение']\n",
      "1 ['подставка' 'глиняный' 'эмалированный' 'плошка' 'жестяной' 'кастрюля'\n",
      " 'кадка' 'керамический' 'кадушка' 'пластмассовый']\n",
      "2 ['суп' 'вареный' 'баранина' 'сметана' 'бульон' 'лепешка' 'борщ' 'сало'\n",
      " 'сосиска' 'вскармливание']\n",
      "3 ['стебель' 'бегония' 'папоротник' 'герань' 'цветок' 'кактус' 'орхидея'\n",
      " 'зацветать' 'цвести' 'азалия']\n",
      "4 ['разбивать' 'разбитый' 'осколок' 'треснуть' 'разбиваться' 'раскалывать'\n",
      " 'вдребезги' 'обломок' 'разлетаться' 'опрокидывать']\n",
      "5 ['окунать' 'высушивать' 'смачивать' 'зарывать' 'обливать' 'вымывать'\n",
      " 'закапывать' 'сажать' 'отмывать' 'растирать']\n"
     ]
    }
   ],
   "source": [
    "all_words = np.array(all_words)\n",
    "for sense in range(n_senses):\n",
    "    indices = km.Xtocentre == sense\n",
    "    distances = km.distances[indices]\n",
    "    sense_words = all_words[indices]\n",
    "    min_indices = np.argsort(distances)[:10]\n",
    "    distances[min_indices]\n",
    "    print(sense, sense_words[min_indices])"
   ]
  }
 ],
 "metadata": {
  "kernelspec": {
   "display_name": "Python 3",
   "language": "python",
   "name": "python3"
  },
  "language_info": {
   "codemirror_mode": {
    "name": "ipython",
    "version": 3
   },
   "file_extension": ".py",
   "mimetype": "text/x-python",
   "name": "python",
   "nbconvert_exporter": "python",
   "pygments_lexer": "ipython3",
   "version": "3.4.1"
  }
 },
 "nbformat": 4,
 "nbformat_minor": 0
}
