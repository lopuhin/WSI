{
 "cells": [
  {
   "cell_type": "code",
   "execution_count": 4,
   "metadata": {
    "collapsed": false
   },
   "outputs": [],
   "source": [
    "import numpy as np\n",
    "import adagram\n",
    "from pprint import pprint"
   ]
  },
  {
   "cell_type": "code",
   "execution_count": 2,
   "metadata": {
    "collapsed": false
   },
   "outputs": [],
   "source": [
    "vm = adagram.VectorModel.load('../models/all.a010.p10.d300.w5.m100.slim.joblib')"
   ]
  },
  {
   "cell_type": "code",
   "execution_count": 7,
   "metadata": {
    "collapsed": false
   },
   "outputs": [
    {
     "name": "stdout",
     "output_type": "stream",
     "text": [
      "[0.37846158669829694, 0.02809249804266737, 0.59343956794504604]\n",
      "[('слива', 0, 0.89966285),\n",
      " ('абрикос', 0, 0.88674188),\n",
      " ('груша', 0, 0.87336361),\n",
      " ('персик', 0, 0.87122804),\n",
      " ('алыча', 0, 0.86368316),\n",
      " ('черешня', 0, 0.86329728),\n",
      " ('крыжовник', 0, 0.85711139),\n",
      " ('виноград', 0, 0.84920228),\n",
      " ('айва', 0, 0.84624636),\n",
      " ('малина', 0, 0.83757114)]\n",
      "[('земляника', 1, 0.70252055),\n",
      " ('миндаль', 1, 0.69469684),\n",
      " ('виноград', 3, 0.69117534),\n",
      " ('черешня', 0, 0.69058359),\n",
      " ('яблоня', 1, 0.6879617),\n",
      " ('яблоко', 3, 0.68285698),\n",
      " ('ягода', 1, 0.68224192),\n",
      " ('плод', 1, 0.68219602),\n",
      " ('цвести', 0, 0.68190992),\n",
      " ('сирень', 1, 0.68015277)]\n"
     ]
    }
   ],
   "source": [
    "word = 'вишня'\n",
    "pprint(vm.word_sense_probs(word))\n",
    "sense_1, sense_2 = 0, 2\n",
    "pprint(vm.sense_neighbors(word, sense_1))\n",
    "pprint(vm.sense_neighbors(word, sense_2))"
   ]
  },
  {
   "cell_type": "code",
   "execution_count": 8,
   "metadata": {
    "collapsed": false
   },
   "outputs": [
    {
     "data": {
      "text/plain": [
       "0.57826447"
      ]
     },
     "execution_count": 8,
     "metadata": {},
     "output_type": "execute_result"
    }
   ],
   "source": [
    "vec_1 = vm.sense_vector(word, sense_1)\n",
    "vec_2 = vm.sense_vector(word, sense_2)\n",
    "d_vec = vec_1 - vec_2\n",
    "np.dot(vec_1, vec_2)"
   ]
  },
  {
   "cell_type": "code",
   "execution_count": 17,
   "metadata": {
    "collapsed": false
   },
   "outputs": [
    {
     "data": {
      "text/plain": [
       "(16058, 41688)"
      ]
     },
     "execution_count": 17,
     "metadata": {},
     "output_type": "execute_result"
    }
   ],
   "source": [
    "word_id = vm.dictionary.word2id[word]\n",
    "w_freq = vm.dictionary.frequencies[word_id]\n",
    "frequent_ids = [w_id for w_id, freq in enumerate(vm.dictionary.frequencies) if freq * 10 >= w_freq]\n",
    "w_freq, len(frequent_ids)"
   ]
  },
  {
   "cell_type": "code",
   "execution_count": 18,
   "metadata": {
    "collapsed": false
   },
   "outputs": [
    {
     "data": {
      "text/plain": [
       "181538"
      ]
     },
     "execution_count": 18,
     "metadata": {},
     "output_type": "execute_result"
    }
   ],
   "source": [
    "frequent_words = [vm.dictionary.id2word[w_id] for w_id in frequent_ids]\n",
    "pairs = lambda lst: ((x, y) for x in lst for y in lst if x != y)\n",
    "sense_pairs = [(w, s1, s2, vm.In[w_id, s1] - vm.In[w_id, s2])\n",
    "               for w, w_id in zip(frequent_words, frequent_ids)\n",
    "               for s1, s2 in pairs(\n",
    "                    [s for s, prob in enumerate(vm.word_sense_probs(w)) if prob > 0.01])]\n",
    "len(sense_pairs)"
   ]
  },
  {
   "cell_type": "code",
   "execution_count": 19,
   "metadata": {
    "collapsed": true
   },
   "outputs": [],
   "source": [
    "cos_sims = [(w, s1, s2, np.dot(d_vec, dv)) for w, s1, s2, dv in sense_pairs]\n",
    "cos_sims.sort(key=lambda x: x[-1], reverse=True)"
   ]
  },
  {
   "cell_type": "code",
   "execution_count": 20,
   "metadata": {
    "collapsed": false
   },
   "outputs": [
    {
     "data": {
      "text/plain": [
       "[('вишня', 0, 2, 0.84347123),\n",
       " ('вишня', 0, 1, 0.51369023),\n",
       " ('яблоко', 0, 3, 0.49614823),\n",
       " ('помидор', 0, 3, 0.48631713),\n",
       " ('виноград', 0, 3, 0.4843767),\n",
       " ('груша', 0, 1, 0.48172379),\n",
       " ('малина', 0, 2, 0.47917992),\n",
       " ('абрикос', 0, 1, 0.47719765),\n",
       " ('тыква', 0, 1, 0.4756307),\n",
       " ('персик', 0, 1, 0.4705112)]"
      ]
     },
     "execution_count": 20,
     "metadata": {},
     "output_type": "execute_result"
    }
   ],
   "source": [
    "cos_sims[:10]"
   ]
  }
 ],
 "metadata": {
  "kernelspec": {
   "display_name": "Python 3",
   "language": "python",
   "name": "python3"
  },
  "language_info": {
   "codemirror_mode": {
    "name": "ipython",
    "version": 3
   },
   "file_extension": ".py",
   "mimetype": "text/x-python",
   "name": "python",
   "nbconvert_exporter": "python",
   "pygments_lexer": "ipython3",
   "version": "3.5.1+"
  }
 },
 "nbformat": 4,
 "nbformat_minor": 0
}
