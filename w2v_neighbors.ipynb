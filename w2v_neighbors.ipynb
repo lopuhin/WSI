{
 "cells": [
  {
   "cell_type": "code",
   "execution_count": 1,
   "metadata": {
    "collapsed": false
   },
   "outputs": [],
   "source": [
    "from gensim.models import Word2Vec\n",
    "w2v = Word2Vec.load(\"model.pkl\")"
   ]
  },
  {
   "cell_type": "code",
   "execution_count": 27,
   "metadata": {
    "collapsed": false
   },
   "outputs": [
    {
     "name": "stdout",
     "output_type": "stream",
     "text": [
      "горшочек 0.7105925679206848\n",
      "кастрюля 0.657353401184082\n",
      "глиняный 0.6550846099853516\n",
      "ваза 0.6483527421951294\n",
      "кувшин 0.6478919982910156\n",
      "миска 0.6423501372337341\n",
      "кадка 0.6408426761627197\n",
      "корчага 0.6137997508049011\n",
      "черепок 0.6068799495697021\n",
      "таз 0.6067258715629578\n"
     ]
    }
   ],
   "source": [
    "import numpy as np\n",
    "\n",
    "word = 'горшок'\n",
    "\n",
    "similar = w2v.most_similar(positive=[word], topn=100)\n",
    "for w, wt in similar[:10]:\n",
    "    print(w, wt)\n",
    "    \n",
    "words = np.array([w for w, _ in similar])\n",
    "word_vectors = np.array([w2v[w] for w in words])"
   ]
  },
  {
   "cell_type": "code",
   "execution_count": 28,
   "metadata": {
    "collapsed": false
   },
   "outputs": [
    {
     "name": "stdout",
     "output_type": "stream",
     "text": [
      "kmeans: X (60, 300)  centres (6, 300)  delta=0.001  maxiter=10  metric=cosine\n",
      "kmeans: 5 iterations  cluster sizes: [10 13  1 21  2 13]\n",
      "kmeans: X (100, 300)  centres (6, 300)  delta=0.001  maxiter=10  metric=cosine\n",
      "kmeans: 6 iterations  cluster sizes: [15 24  5 31  2 23]\n"
     ]
    },
    {
     "data": {
      "text/plain": [
       "array([False, False,  True,  True,  True, False,  True,  True, False,\n",
       "       False, False, False,  True, False, False, False, False, False,\n",
       "       False, False, False, False, False, False, False, False, False,\n",
       "       False, False, False, False, False, False,  True, False, False,\n",
       "       False, False, False,  True,  True, False, False, False, False,\n",
       "       False, False, False, False, False, False, False, False, False,\n",
       "       False,  True, False, False,  True,  True, False,  True,  True,\n",
       "       False, False, False, False, False,  True, False,  True, False,\n",
       "       False,  True, False, False, False,  True, False, False,  True,\n",
       "       False, False,  True,  True, False, False, False, False, False,\n",
       "       False, False,  True, False, False, False,  True, False, False,  True], dtype=bool)"
      ]
     },
     "execution_count": 28,
     "metadata": {},
     "output_type": "execute_result"
    }
   ],
   "source": [
    "import kmeans \n",
    "n_senses = 6\n",
    "km = kmeans.KMeans(word_vectors, k=n_senses, metric='cosine')"
   ]
  },
  {
   "cell_type": "code",
   "execution_count": 30,
   "metadata": {
    "collapsed": false
   },
   "outputs": [
    {
     "name": "stdout",
     "output_type": "stream",
     "text": [
      "0 печь котел сковорода сковородка жаровня\n",
      "1 корзина кувшин ваза глиняный тыква\n",
      "2 цветочный клумба герань вазон кашпо\n",
      "3 ложка тарелка миска поднос фарфоровый\n",
      "4 посуда черепок\n",
      "5 ведро раковина чайник кастрюля таз\n"
     ]
    }
   ],
   "source": [
    "for sense in range(n_senses):\n",
    "    #sense_words = [w for w, _sense in zip(words, clf_res) if _sense == sense]\n",
    "    sense_words = list(words[km.Xtocentre == sense])\n",
    "    sense_words.sort(key=lambda w: w2v.vocab[w].count, reverse=True)\n",
    "    print(sense, ' '.join(sense_words[:5]))"
   ]
  },
  {
   "cell_type": "code",
   "execution_count": 19,
   "metadata": {
    "collapsed": false
   },
   "outputs": [
    {
     "data": {
      "text/plain": [
       "Counter({0: 9, 1: 23, 2: 27, 3: 28, 4: 5, 5: 8})"
      ]
     },
     "execution_count": 19,
     "metadata": {},
     "output_type": "execute_result"
    }
   ],
   "source": [
    "from sklearn.cluster import KMeans\n",
    "\n",
    "n_senses = 6\n",
    "clf = KMeans(n_clusters=n_senses, random_state=42)\n",
    "clf_res = clf.fit_predict(word_vectors)\n",
    "\n",
    "from collections import Counter\n",
    "Counter(clf_res)"
   ]
  },
  {
   "cell_type": "code",
   "execution_count": 5,
   "metadata": {
    "collapsed": false
   },
   "outputs": [
    {
     "name": "stdout",
     "output_type": "stream",
     "text": [
      "[[-0.08377539 -0.88522649]\n",
      " [-1.32236671  0.41424409]]\n"
     ]
    }
   ],
   "source": [
    "from sklearn.decomposition import PCA\n",
    "\n",
    "pca = PCA(n_components=2)\n",
    "pca_res = pca.fit_transform(word_vectors)\n",
    "\n",
    "print(pca_res[:2])"
   ]
  },
  {
   "cell_type": "code",
   "execution_count": 8,
   "metadata": {
    "collapsed": false
   },
   "outputs": [
    {
     "data": {
      "text/plain": [
       "<matplotlib.axes._subplots.AxesSubplot at 0x11edfbda0>"
      ]
     },
     "execution_count": 8,
     "metadata": {},
     "output_type": "execute_result"
    },
    {
     "data": {
      "image/png": "[encoded data removed]",
      "text/plain": [
       "<matplotlib.figure.Figure at 0x11edde400>"
      ]
     },
     "metadata": {},
     "output_type": "display_data"
    }
   ],
   "source": [
    "%matplotlib inline\n",
    "\n",
    "import pandas as pd\n",
    "\n",
    "df = pd.DataFrame.from_dict({\n",
    "    \"x\": pca_res[:,0],\n",
    "    \"y\": pca_res[:,1],\n",
    "    \"clf\": clf_res,\n",
    "})\n",
    "df.plot.scatter(x=\"x\", y=\"y\", c=\"clf\")"
   ]
  }
 ],
 "metadata": {
  "kernelspec": {
   "display_name": "Python 3",
   "language": "python",
   "name": "python3"
  },
  "language_info": {
   "codemirror_mode": {
    "name": "ipython",
    "version": 3
   },
   "file_extension": ".py",
   "mimetype": "text/x-python",
   "name": "python",
   "nbconvert_exporter": "python",
   "pygments_lexer": "ipython3",
   "version": "3.4.1"
  }
 },
 "nbformat": 4,
 "nbformat_minor": 0
}
