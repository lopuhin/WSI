{
 "cells": [
  {
   "cell_type": "code",
   "execution_count": 3,
   "metadata": {
    "collapsed": false
   },
   "outputs": [],
   "source": [
    "from gensim.models import Word2Vec\n",
    "model = Word2Vec.load_word2vec_format('model.bin')"
   ]
  },
  {
   "cell_type": "code",
   "execution_count": 5,
   "metadata": {
    "collapsed": false
   },
   "outputs": [
    {
     "name": "stdout",
     "output_type": "stream",
     "text": [
      "['час', 'время', 'инцидент', 'хватить', 'некоторый', 'легенда', 'говориться', 'золото', 'находиться', 'конец', 'радуга', 'глубина', '22', 'фут', 'почва', 'становиться']\n",
      "34188\n"
     ]
    }
   ],
   "source": [
    "import utils\n",
    "contexts = utils.load_contexts('../corpora/ad-nouns-contexts-100k', 'горшок')\n",
    "print(contexts[0])\n",
    "print(len(contexts))"
   ]
  },
  {
   "cell_type": "code",
   "execution_count": 21,
   "metadata": {
    "collapsed": false
   },
   "outputs": [
    {
     "name": "stdout",
     "output_type": "stream",
     "text": [
      "46634\n",
      "42735\n"
     ]
    }
   ],
   "source": [
    "import numpy as np\n",
    "all_words = list({w for ctx in contexts for w in ctx})\n",
    "print(len(all_words))\n",
    "w2v_vecs = np.array([model[w] for w in all_words if w in model])\n",
    "print(len(w2v_vecs))"
   ]
  },
  {
   "cell_type": "code",
   "execution_count": 22,
   "metadata": {
    "collapsed": false
   },
   "outputs": [
    {
     "name": "stdout",
     "output_type": "stream",
     "text": [
      "kmeans: X (413, 300)  centres (6, 300)  delta=0.001  maxiter=10  metric=cosine\n",
      "kmeans: 7 iterations  cluster sizes: [90 96 42 57 71 57]\n",
      "kmeans: X (42735, 300)  centres (6, 300)  delta=0.001  maxiter=10  metric=cosine\n",
      "kmeans: 4 iterations  cluster sizes: [ 9563 10985  4750  6043  6281  5113]\n"
     ]
    }
   ],
   "source": [
    "import kmeans\n",
    "km = kmeans.KMeans(w2v_vecs, k=6, metric='cosine')"
   ]
  },
  {
   "cell_type": "code",
   "execution_count": 32,
   "metadata": {
    "collapsed": false
   },
   "outputs": [
    {
     "data": {
      "text/plain": [
       "array(['бруэр', 'сходни', 'акустика', 'морель', 'землесмесь', 'долетать',\n",
       "       'яга', 'несовсем', 'дуб', 'прорастание'], \n",
       "      dtype='<U78')"
      ]
     },
     "execution_count": 32,
     "metadata": {},
     "output_type": "execute_result"
    }
   ],
   "source": [
    "sense = 0\n",
    "indices = km.Xtocentre == sense\n",
    "distances = km.distances[indices]\n",
    "words = np.array(all_words)[indices]\n",
    "min_indices = np.argsort(distances)[:10]\n",
    "distances[min_indices]\n",
    "words[min_indices]"
   ]
  }
 ],
 "metadata": {
  "kernelspec": {
   "display_name": "Python 3",
   "language": "python",
   "name": "python3"
  },
  "language_info": {
   "codemirror_mode": {
    "name": "ipython",
    "version": 3
   },
   "file_extension": ".py",
   "mimetype": "text/x-python",
   "name": "python",
   "nbconvert_exporter": "python",
   "pygments_lexer": "ipython3",
   "version": "3.4.1"
  }
 },
 "nbformat": 4,
 "nbformat_minor": 0
}
