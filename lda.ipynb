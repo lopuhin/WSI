{
 "cells": [
  {
   "cell_type": "code",
   "execution_count": 1,
   "metadata": {
    "collapsed": false
   },
   "outputs": [],
   "source": [
    "import logging\n",
    "logger = logging.getLogger()\n",
    "logger.setLevel(logging.INFO)"
   ]
  },
  {
   "cell_type": "code",
   "execution_count": 66,
   "metadata": {
    "collapsed": false
   },
   "outputs": [
    {
     "name": "stdout",
     "output_type": "stream",
     "text": [
      "['час', 'время', 'инцидент', 'хватить', 'некоторый', 'легенда', 'говориться', 'золото', 'находиться', 'конец', 'радуга', 'глубина', '22', 'фут', 'почва', 'становиться']\n",
      "['гнить', 'нераскрытый', 'тайна', 'коридор', 'бояться', 'находить', 'черепок', 'глиняный', 'настоящий', 'череп', 'скелет', 'смочь', 'выбираться']\n",
      "['орхидея', 'совершенно', 'очаровывать', 'становиться', 'любимый', 'цветок', 'рекомендовать', 'поддон', 'класть', 'гравий', 'немного', 'камень', 'сверху', 'ставить', 'орхидея']\n",
      "34188\n"
     ]
    }
   ],
   "source": [
    "import utils\n",
    "texts = utils.load_contexts('../corpora/ad-nouns-contexts-100k', 'горшок')\n",
    "for text in texts[:3]:\n",
    "    print(text)\n",
    "print(len(texts))\n",
    "#texts = texts[:1000]"
   ]
  },
  {
   "cell_type": "code",
   "execution_count": 41,
   "metadata": {
    "collapsed": false
   },
   "outputs": [
    {
     "name": "stdout",
     "output_type": "stream",
     "text": [
      "[(0, 1), (1, 1), (2, 1), (3, 1), (4, 1), (5, 1), (6, 1), (7, 1), (8, 1), (9, 1), (10, 1), (11, 1), (12, 1), (13, 1), (14, 1), (15, 1)] [(16, 1), (17, 1), (18, 1), (19, 1), (20, 1), (21, 1), (22, 1), (23, 1), (24, 1), (25, 1), (26, 1), (27, 1), (28, 1)]\n"
     ]
    }
   ],
   "source": [
    "from gensim import corpora\n",
    "dictionary = corpora.Dictionary(texts)\n",
    "corpus = [dictionary.doc2bow(text) for text in texts]\n",
    "print(corpus[0], corpus[1])"
   ]
  },
  {
   "cell_type": "code",
   "execution_count": 58,
   "metadata": {
    "collapsed": false
   },
   "outputs": [
    {
     "name": "stdout",
     "output_type": "stream",
     "text": [
      "34188\n"
     ]
    }
   ],
   "source": [
    "#from gensim.models.ldamulticore import LdaMulticore as LdaModel\n",
    "from gensim.models import LdaModel\n",
    "print(len(corpus))\n",
    "lda = LdaModel(corpus, id2word=dictionary, num_topics=6, passes=3, alpha='auto')"
   ]
  },
  {
   "cell_type": "code",
   "execution_count": 59,
   "metadata": {
    "collapsed": false
   },
   "outputs": [
    {
     "data": {
      "text/plain": [
       "[(0,\n",
       "  '0.014*ребенок + 0.013*год + 0.009*2222 + 0.009*мочь + 0.005*сидеть + 0.005*ходить + 0.005*время + 0.005*бог + 0.005*день + 0.005*становиться'),\n",
       " (1,\n",
       "  '0.006*мед + 0.004*всякий + 0.004*голова + 0.003*император + 0.003*медведь + 0.003*вода + 0.003*глиняный + 0.003*песня + 0.003*прекрасный + 0.003*находить'),\n",
       " (2,\n",
       "  '0.017*растение + 0.011*цветок + 0.011*земля + 0.009*22 + 0.009*цветочный + 0.006*2 + 0.006*окно + 0.006*место + 0.004*подоконник + 0.004*размер'),\n",
       " (3,\n",
       "  '0.011*глиняный + 0.010*стоять + 0.007*цветок + 0.007*стол + 0.005*пол + 0.005*большой + 0.005*стена + 0.004*поставлять + 0.004*огонь + 0.004*кровать'),\n",
       " (4,\n",
       "  '0.010*2 + 0.007*голова + 0.006*рука + 0.005*конь + 0.005*река + 0.004*крестьянин + 0.004*кот + 0.004*кошка + 0.004*котел + 0.003*месяц'),\n",
       " (5,\n",
       "  '0.010*ночной + 0.008*рука + 0.008*знать + 0.006*говорить + 0.006*пойти + 0.005*мочь + 0.004*понимать + 0.004*глаз + 0.004*ничто + 0.004*называть')]"
      ]
     },
     "execution_count": 59,
     "metadata": {},
     "output_type": "execute_result"
    }
   ],
   "source": [
    "lda.print_topics()"
   ]
  },
  {
   "cell_type": "code",
   "execution_count": 6,
   "metadata": {
    "collapsed": false
   },
   "outputs": [
    {
     "name": "stdout",
     "output_type": "stream",
     "text": [
      "{'3': 'Ночной горшок', '1': 'Округлый глиняный сосуд для приготовления пищи (печной горшок)', '2': 'Расширяющийся кверху сосуд с отверстием в дне (цветочный горшок)'}\n",
      "(('телевизор, - ковер, , - музыкальный центр, - стол, - аквариум, - 3 шкафа, - цветы в', ' горшках', ', - мелкие аксессуары.'), '2')\n"
     ]
    }
   ],
   "source": [
    "import rl_wsd_labeled\n",
    "senses, contexts = rl_wsd_labeled.get_contexts(rl_wsd_labeled.contexts_filename('nouns', 'RuTenTen', 'горшок'))\n",
    "print(senses)\n",
    "print(contexts[0])"
   ]
  },
  {
   "cell_type": "code",
   "execution_count": 44,
   "metadata": {
    "collapsed": true
   },
   "outputs": [],
   "source": [
    "import pymystem3\n",
    "import re\n",
    "MyStem = pymystem3.Mystem()"
   ]
  },
  {
   "cell_type": "code",
   "execution_count": 67,
   "metadata": {
    "collapsed": false
   },
   "outputs": [
    {
     "name": "stdout",
     "output_type": "stream",
     "text": [
      "('телевизор, - ковер, , - музыкальный центр, - стол, - аквариум, - 3 шкафа, - цветы в', ' горшках', ', - мелкие аксессуары.')\n",
      "['телевизор', 'ковер', 'музыкальный', 'центр', 'стол', 'аквариум', '2', 'шкаф', 'цветок', 'мелкий', 'аксессуар']\n"
     ]
    }
   ],
   "source": [
    "word_re = re.compile('\\w+', re.U)\n",
    "def normalize(ctx):\n",
    "    left, _, right = ctx\n",
    "    text = ' '.join([left, right]).strip()\n",
    "    text = re.sub('\\d', '2', text)\n",
    "    return [w for w in MyStem.lemmatize(' '.join(word_re.findall(text)))\n",
    "            if w not in utils.stopwords and w.strip()]\n",
    "print(contexts[0][0])\n",
    "print(normalize(contexts[0][0]))"
   ]
  },
  {
   "cell_type": "code",
   "execution_count": 60,
   "metadata": {
    "collapsed": false
   },
   "outputs": [
    {
     "name": "stdout",
     "output_type": "stream",
     "text": [
      "[3 2 2 2 2 5 2 2 0 5]\n",
      "[2 2 2 2 2 3 2 1 2 2]\n"
     ]
    }
   ],
   "source": [
    "import numpy as np\n",
    "documents = [dictionary.doc2bow(normalize(ctx)) for ctx, _ in contexts]\n",
    "gamma, _ = lda.inference(documents)\n",
    "pred_topics = gamma.argmax(axis=1)\n",
    "true_labels = np.array([int(ans) for _, ans in contexts])\n",
    "print(pred_topics[:10])\n",
    "print(true_labels[:10])"
   ]
  },
  {
   "cell_type": "code",
   "execution_count": 62,
   "metadata": {
    "collapsed": false
   },
   "outputs": [
    {
     "name": "stdout",
     "output_type": "stream",
     "text": [
      "ARI: 0.2723552642496695\n",
      "V score: 0.225054708464\n"
     ]
    }
   ],
   "source": [
    "from sklearn.metrics import v_measure_score, adjusted_rand_score\n",
    "print('ARI:', adjusted_rand_score(true_labels, pred_topics))\n",
    "print('V score:', v_measure_score(true_labels, pred_topics))"
   ]
  }
 ],
 "metadata": {
  "kernelspec": {
   "display_name": "Python 3",
   "language": "python",
   "name": "python3"
  },
  "language_info": {
   "codemirror_mode": {
    "name": "ipython",
    "version": 3
   },
   "file_extension": ".py",
   "mimetype": "text/x-python",
   "name": "python",
   "nbconvert_exporter": "python",
   "pygments_lexer": "ipython3",
   "version": "3.4.1"
  }
 },
 "nbformat": 4,
 "nbformat_minor": 0
}
