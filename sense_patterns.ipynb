{
 "cells": [
  {
   "cell_type": "code",
   "execution_count": 1,
   "metadata": {
    "collapsed": false
   },
   "outputs": [],
   "source": [
    "import numpy as np\n",
    "import adagram"
   ]
  },
  {
   "cell_type": "code",
   "execution_count": 2,
   "metadata": {
    "collapsed": false
   },
   "outputs": [],
   "source": [
    "vm = adagram.VectorModel.load('../python-adagram/all-stemmed-small.pkl')"
   ]
  },
  {
   "cell_type": "code",
   "execution_count": 19,
   "metadata": {
    "collapsed": false
   },
   "outputs": [
    {
     "name": "stdout",
     "output_type": "stream",
     "text": [
      "[0.60904910476183971, 0.385138556423536, 0.0055747636531560674]\n",
      "[('смородина', 0, 0.78217244), ('малина', 0, 0.74679089), ('виноград', 0, 0.74602312), ('груша', 0, 0.73327327), ('абрикос', 0, 0.72986865), ('брусника', 0, 0.72719747), ('ягода', 0, 0.7267893), ('яблоко', 0, 0.72580159), ('инжир', 0, 0.72397166), ('айва', 0, 0.71087837)]\n",
      "[('сирень', 0, 0.50488502), ('подснежник', 0, 0.48133954), ('цвести', 0, 0.47511998), ('хризантема', 0, 0.4720661), ('ландыш', 0, 0.47201088), ('яблоня', 0, 0.46655408), ('каштан', 0, 0.46091789), ('иван-чай', 0, 0.46067074), ('парниковый', 1, 0.45890331), ('гортензия', 0, 0.45516166)]\n"
     ]
    }
   ],
   "source": [
    "word = 'вишня'\n",
    "print(vm.sense_probs(word))\n",
    "sense_1, sense_2 = 0, 1\n",
    "print(vm.sense_neighbors(word, sense_1))\n",
    "print(vm.sense_neighbors(word, sense_2))"
   ]
  },
  {
   "cell_type": "code",
   "execution_count": 16,
   "metadata": {
    "collapsed": false
   },
   "outputs": [
    {
     "data": {
      "text/plain": [
       "0.39588439"
      ]
     },
     "execution_count": 16,
     "metadata": {},
     "output_type": "execute_result"
    }
   ],
   "source": [
    "word_id = vm.dictionary.word2id[word]\n",
    "vec_1 = vm.InNorm[word_id, sense_1]\n",
    "vec_2 = vm.InNorm[word_id, sense_2]\n",
    "d_vec = vec_1 - vec_2\n",
    "np.dot(vec_1, vec_2)"
   ]
  },
  {
   "cell_type": "code",
   "execution_count": 13,
   "metadata": {
    "collapsed": false
   },
   "outputs": [
    {
     "data": {
      "text/plain": [
       "(460, 18448)"
      ]
     },
     "execution_count": 13,
     "metadata": {},
     "output_type": "execute_result"
    }
   ],
   "source": [
    "w_freq = vm.dictionary.frequencies[word_id]\n",
    "frequent_ids = [w_id for w_id, freq in enumerate(vm.dictionary.frequencies) if freq * 2 >= w_freq]\n",
    "w_freq, len(frequent_ids)"
   ]
  },
  {
   "cell_type": "code",
   "execution_count": 22,
   "metadata": {
    "collapsed": false
   },
   "outputs": [
    {
     "data": {
      "text/plain": [
       "110672"
      ]
     },
     "execution_count": 22,
     "metadata": {},
     "output_type": "execute_result"
    }
   ],
   "source": [
    "frequent_words = [vm.dictionary.id2word[w_id] for w_id in frequent_ids]\n",
    "pairs = lambda lst: ((x, y) for x in lst for y in lst if x != y)\n",
    "sense_pairs = [(w, s1, s2, vm.InNorm[w_id, s1] - vm.InNorm[w_id, s2])\n",
    "               for w, w_id in zip(frequent_words, frequent_ids)\n",
    "               for s1, s2 in pairs(\n",
    "                    [s for s, prob in enumerate(vm.sense_probs(w)) if prob > 0.01])]\n",
    "len(sense_pairs)"
   ]
  },
  {
   "cell_type": "code",
   "execution_count": 23,
   "metadata": {
    "collapsed": true
   },
   "outputs": [],
   "source": [
    "cos_sims = [(w, s1, s2, np.dot(d_vec, dv)) for w, s1, s2, dv in sense_pairs]\n",
    "cos_sims.sort(key=lambda x: x[-1], reverse=True)"
   ]
  },
  {
   "cell_type": "code",
   "execution_count": 25,
   "metadata": {
    "collapsed": false
   },
   "outputs": [
    {
     "data": {
      "text/plain": [
       "[('вишня', 0, 1, 1.2082313),\n",
       " ('чеснок', 0, 2, 0.60876709),\n",
       " ('150', 1, 4, 0.60657775),\n",
       " ('лист', 0, 1, 0.5532009),\n",
       " ('петрушка', 0, 1, 0.54737139),\n",
       " ('употребляться', 1, 2, 0.54710722),\n",
       " ('ломтик', 0, 1, 0.54415655),\n",
       " ('сверху', 1, 3, 0.52421379),\n",
       " ('корень', 1, 3, 0.52182907),\n",
       " ('добавлять', 1, 2, 0.51830745)]"
      ]
     },
     "execution_count": 25,
     "metadata": {},
     "output_type": "execute_result"
    }
   ],
   "source": [
    "cos_sims[:10]"
   ]
  }
 ],
 "metadata": {
  "kernelspec": {
   "display_name": "Python 3",
   "language": "python",
   "name": "python3"
  },
  "language_info": {
   "codemirror_mode": {
    "name": "ipython",
    "version": 3
   },
   "file_extension": ".py",
   "mimetype": "text/x-python",
   "name": "python",
   "nbconvert_exporter": "python",
   "pygments_lexer": "ipython3",
   "version": "3.5.1"
  }
 },
 "nbformat": 4,
 "nbformat_minor": 0
}
