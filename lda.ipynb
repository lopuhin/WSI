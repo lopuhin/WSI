{
 "cells": [
  {
   "cell_type": "code",
   "execution_count": 38,
   "metadata": {
    "collapsed": false
   },
   "outputs": [
    {
     "name": "stdout",
     "output_type": "stream",
     "text": [
      "['она', 'чего', 'них', 'почти', 'да', 'была', 'во', 'для', 'чтобы', 'всего', 'какая', 'они', 'даже', 'как', 'за', 'после', '|', 'если', 'кажется', 'этого', 'про', 'никогда', 'этой', 'сказал', 'можно', 'опять', 'их', 'себе', 'потом', 'больше', 'впрочем', 'до', 'а', 'зачем', 'на', 'ничего', 'ну', 'ведь', 'другой', 'вот', 'тебя', 'не', 'ему', 'всех', 'весь', 'ты', 'под', 'всегда', 'три', 'были', 'здесь', 'надо', 'наконец', 'чуть', 'раз', 'иногда', 'хоть', 'быть', 'себя', 'от', 'кто', 'того', 'ли', 'этом', 'сейчас', 'по', 'из', 'ни', 'его', 'совсем', 'тот', 'уж', 'хорошо', 'уже', 'сказать', 'когда', 'тем', 'нельзя', 'было', 'все', 'потому', 'о', 'какой', 'между', 'нибудь', 'им', 'много', 'этот', 'меня', 'эти', 'мне', 'через', 'сказала', 'свой', 'мой', 'нас', 'без', 'два', 'нее', 'ей']\n",
      "[['час', 'время', 'инцидент', 'хватить', 'некоторый', 'легенда', 'говориться', 'золото', 'находиться', 'конец', 'радуга', 'глубина', '22', 'фут', 'почва', 'становиться'], ['гнить', 'нераскрытый', 'тайна', 'коридор', 'бояться', 'находить', 'черепок', 'глиняный', 'настоящий', 'череп', 'скелет', 'смочь', 'выбираться'], ['орхидея', 'совершенно', 'очаровывать', 'становиться', 'любимый', 'цветок', 'рекомендовать', 'поддон', 'класть', 'гравий', 'немного', 'камень', 'сверху', 'ставить', 'орхидея']]\n",
      "34188\n"
     ]
    }
   ],
   "source": [
    "\n",
    "with open('../context-clustering/stopwords.txt') as f:\n",
    "    stopwords = {line.strip().split()[0] for line in f if line.strip()}\n",
    "print(list(stopwords)[:100])\n",
    "word = 'горшок'\n",
    "with open('../corpora/ad-nouns-contexts-100k/{}.txt'.format(word)) as f:\n",
    "    texts = [[w for w in line.strip().split() if w not in stopwords and w != word] for line in f]\n",
    "print(texts[:3])\n",
    "print(len(texts))\n",
    "#texts = texts[:10000]"
   ]
  },
  {
   "cell_type": "code",
   "execution_count": 39,
   "metadata": {
    "collapsed": false
   },
   "outputs": [],
   "source": [
    "from gensim import corpora\n",
    "dictionary = corpora.Dictionary(texts)\n",
    "corpus = [dictionary.doc2bow(text) for text in texts]"
   ]
  },
  {
   "cell_type": "code",
   "execution_count": 42,
   "metadata": {
    "collapsed": false
   },
   "outputs": [],
   "source": [
    "from gensim.models.ldamulticore import LdaMulticore as LdaModel\n",
    "lda = LdaModel(corpus, id2word=dictionary, num_topics=5, workers=4)"
   ]
  },
  {
   "cell_type": "code",
   "execution_count": 43,
   "metadata": {
    "collapsed": false
   },
   "outputs": [
    {
     "data": {
      "text/plain": [
       "[(0,\n",
       "  '0.006*2 + 0.004*день + 0.004*растение + 0.004*цветок + 0.004*стоять + 0.003*цветочный + 0.003*земля + 0.003*ночной + 0.003*ребенок + 0.003*говорить'),\n",
       " (1,\n",
       "  '0.007*2 + 0.006*мочь + 0.005*большой + 0.004*вода + 0.004*ребенок + 0.004*22 + 0.004*цветок + 0.003*растение + 0.003*становиться + 0.003*глиняный'),\n",
       " (2,\n",
       "  '0.006*цветочный + 0.005*мочь + 0.005*ночной + 0.005*ребенок + 0.004*глиняный + 0.003*цветок + 0.003*2 + 0.003*голова + 0.003*большой + 0.003*земля'),\n",
       " (3,\n",
       "  '0.006*цветок + 0.004*ребенок + 0.003*голова + 0.003*год + 0.003*время + 0.003*становиться + 0.003*22 + 0.003*рука + 0.003*знать + 0.003*стоять'),\n",
       " (4,\n",
       "  '0.006*растение + 0.005*ребенок + 0.005*год + 0.005*время + 0.004*самый + 0.004*глиняный + 0.004*большой + 0.004*вода + 0.004*цветочный + 0.003*рука')]"
      ]
     },
     "execution_count": 43,
     "metadata": {},
     "output_type": "execute_result"
    }
   ],
   "source": [
    "lda.print_topics()"
   ]
  }
 ],
 "metadata": {
  "kernelspec": {
   "display_name": "Python 3",
   "language": "python",
   "name": "python3"
  },
  "language_info": {
   "codemirror_mode": {
    "name": "ipython",
    "version": 3
   },
   "file_extension": ".py",
   "mimetype": "text/x-python",
   "name": "python",
   "nbconvert_exporter": "python",
   "pygments_lexer": "ipython3",
   "version": "3.4.1"
  }
 },
 "nbformat": 4,
 "nbformat_minor": 0
}
